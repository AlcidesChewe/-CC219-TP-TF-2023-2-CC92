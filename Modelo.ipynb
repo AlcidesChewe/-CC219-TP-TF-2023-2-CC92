{
  "nbformat": 4,
  "nbformat_minor": 0,
  "metadata": {
    "colab": {
      "provenance": [],
      "authorship_tag": "ABX9TyNolpCHZJAxCW1Geyz0Y0U/",
      "include_colab_link": true
    },
    "kernelspec": {
      "name": "python3",
      "display_name": "Python 3"
    },
    "language_info": {
      "name": "python"
    }
  },
  "cells": [
    {
      "cell_type": "markdown",
      "metadata": {
        "id": "view-in-github",
        "colab_type": "text"
      },
      "source": [
        "<a href=\"https://colab.research.google.com/github/AlcidesChewe/TF_MENSAJES_NEGATIVOS/blob/main/Modelo.ipynb\" target=\"_parent\"><img src=\"https://colab.research.google.com/assets/colab-badge.svg\" alt=\"Open In Colab\"/></a>"
      ]
    },
    {
      "cell_type": "code",
      "execution_count": 17,
      "metadata": {
        "colab": {
          "base_uri": "https://localhost:8080/"
        },
        "id": "OeNHjCl3Pcxi",
        "outputId": "280270f9-427e-4f26-f27e-e83307e5b14f"
      },
      "outputs": [
        {
          "output_type": "stream",
          "name": "stderr",
          "text": [
            "[nltk_data] Downloading package stopwords to /root/nltk_data...\n",
            "[nltk_data]   Package stopwords is already up-to-date!\n",
            "[nltk_data] Downloading package punkt to /root/nltk_data...\n",
            "[nltk_data]   Package punkt is already up-to-date!\n"
          ]
        },
        {
          "output_type": "execute_result",
          "data": {
            "text/plain": [
              "True"
            ]
          },
          "metadata": {},
          "execution_count": 17
        }
      ],
      "source": [
        "import pandas as pd # read the csv\n",
        "import re # regex to detect username, url, html entity\n",
        "import nltk # to use word tokenize (split the sentence into words)\n",
        "from nltk.corpus import stopwords # to remove the stopwords\n",
        "from sklearn.model_selection import train_test_split\n",
        "from tensorflow.keras.preprocessing.text import Tokenizer\n",
        "from tensorflow.keras.preprocessing.sequence import pad_sequences\n",
        "from tensorflow.keras.models import Sequential\n",
        "from tensorflow.keras.layers import Embedding, LSTM, Dense, Dropout\n",
        "\n",
        "from keras.utils import to_categorical\n",
        "from keras import backend as K\n",
        "nltk.download('stopwords')\n",
        "nltk.download('punkt')"
      ]
    },
    {
      "cell_type": "code",
      "source": [
        "import numpy as np"
      ],
      "metadata": {
        "id": "5Hmi13KMfQcm"
      },
      "execution_count": 18,
      "outputs": []
    },
    {
      "cell_type": "code",
      "source": [
        "# initiate the path and read it\n",
        "dataset_path = \"./labeled_data.csv\"\n",
        "df = pd.read_csv(dataset_path)\n",
        "df.head()\n",
        "\n",
        "# dataset shape to know how many tweets in the datasets\n",
        "print(f\"num of tweets: {df.shape}\")\n",
        "\n",
        "# extract the text and labels\n",
        "tweet = list(df['tweet'])\n",
        "labels = list(df['class'])"
      ],
      "metadata": {
        "colab": {
          "base_uri": "https://localhost:8080/"
        },
        "id": "I6KGm-1YPsX1",
        "outputId": "b0497e46-0fdc-4f49-ba5a-53ec6ba8bb0a"
      },
      "execution_count": 19,
      "outputs": [
        {
          "output_type": "stream",
          "name": "stdout",
          "text": [
            "num of tweets: (24783, 7)\n"
          ]
        }
      ]
    },
    {
      "cell_type": "code",
      "source": [
        "stop_words = set(stopwords.words('english'))\n",
        "stop_words.add(\"rt\")\n",
        "\n",
        "# remove html entity:\n",
        "def remove_entity(raw_text):\n",
        "    entity_regex = r\"&[^\\s;]+;\"\n",
        "    text = re.sub(entity_regex, \"\", raw_text)\n",
        "    return text\n",
        "\n",
        "# change the user tags\n",
        "def change_user(raw_text):\n",
        "    regex = r\"@([^ ]+)\"\n",
        "    text = re.sub(regex, \"user\", raw_text)\n",
        "\n",
        "    return text\n",
        "\n",
        "# remove urls\n",
        "def remove_url(raw_text):\n",
        "    url_regex = r\"(?i)\\b((?:https?://|www\\d{0,3}[.]|[a-z0-9.\\-]+[.][a-z]{2,4}/)(?:[^\\s()<>]+|\\(([^\\s()<>]+|(\\([^\\s()<>]+\\)))*\\))+(?:\\(([^\\s()<>]+|(\\([^\\s()<>]+\\)))*\\)|[^\\s`!()\\[\\]{};:'\\\".,<>?«»“”‘’]))\"\n",
        "    text = re.sub(url_regex, '', raw_text)\n",
        "\n",
        "    return text\n",
        "\n",
        "# remove unnecessary symbols\n",
        "def remove_noise_symbols(raw_text):\n",
        "    text = raw_text.replace('\"', '')\n",
        "    text = text.replace(\"'\", '')\n",
        "    text = text.replace(\"!\", '')\n",
        "    text = text.replace(\"`\", '')\n",
        "    text = text.replace(\"..\", '')\n",
        "\n",
        "    return text\n",
        "\n",
        "# remove stopwords\n",
        "def remove_stopwords(raw_text):\n",
        "    tokenize = nltk.word_tokenize(raw_text)\n",
        "    text = [word for word in tokenize if not word.lower() in stop_words]\n",
        "    text = \" \".join(text)\n",
        "\n",
        "    return text\n",
        "\n",
        "## this function in to clean all the dataset by utilizing all the function above\n",
        "def preprocess(datas):\n",
        "    clean = []\n",
        "    # change the @xxx into \"user\"\n",
        "    clean = [change_user(text) for text in datas]\n",
        "    # remove emojis (specifically unicode emojis)\n",
        "    clean = [remove_entity(text) for text in clean]\n",
        "    # remove urls\n",
        "    clean = [remove_url(text) for text in clean]\n",
        "    # remove trailing stuff\n",
        "    clean = [remove_noise_symbols(text) for text in clean]\n",
        "    # remove stopwords\n",
        "    clean = [remove_stopwords(text) for text in clean]\n",
        "\n",
        "    return clean"
      ],
      "metadata": {
        "id": "C_He4kXSPt80"
      },
      "execution_count": 20,
      "outputs": []
    },
    {
      "cell_type": "code",
      "source": [
        "clean_tweet = preprocess(tweet)"
      ],
      "metadata": {
        "id": "HG5ALVmYPt_c"
      },
      "execution_count": 21,
      "outputs": []
    },
    {
      "cell_type": "code",
      "source": [
        "X_train, X_test, y_train, y_test = train_test_split(clean_tweet, labels, test_size=0.2, random_state=42)"
      ],
      "metadata": {
        "id": "D1frr192PuB1"
      },
      "execution_count": 22,
      "outputs": []
    },
    {
      "cell_type": "code",
      "source": [
        "## Tokenizing -> basically we use tokenisation for many things, its commonly used for feature extraction in preprocessing. btw idk how it works as feature extraction tho :(\n",
        "# declare the tokenizer\n",
        "tokenizer = Tokenizer()\n",
        "# build the vocabulary based on train dataset\n",
        "tokenizer.fit_on_texts(X_train)\n",
        "# tokenize the train and test dataset\n",
        "X_train = tokenizer.texts_to_sequences(X_train)\n",
        "X_test = tokenizer.texts_to_sequences(X_test)\n",
        "\n",
        "# vocabulary size (num of unique words) -> will be used in embedding layer\n",
        "vocab_size = len(tokenizer.word_index) + 1"
      ],
      "metadata": {
        "id": "SRdLBbiRPuEW"
      },
      "execution_count": 23,
      "outputs": []
    },
    {
      "cell_type": "code",
      "source": [
        "# Cargar GloVe embeddings\n",
        "embedding_index = dict()\n",
        "with open('glove.6B.100d.txt', encoding='utf8') as f:\n",
        "    for line in f:\n",
        "        values = line.split()\n",
        "        word = values[0]\n",
        "        coefs = np.asarray(values[1:], dtype='float32')\n",
        "        embedding_index[word] = coefs\n",
        "\n",
        "# Crear la matriz de embedding\n",
        "embedding_matrix = np.zeros((vocab_size, 100))  # Asegúrate de que la dimensión aquí corresponda con la de GloVe\n",
        "for word, i in tokenizer.word_index.items():\n",
        "    embedding_vector = embedding_index.get(word)\n",
        "    if embedding_vector is not None:\n",
        "        # Las palabras no encontradas en GloVe serán vectores de ceros.\n",
        "        embedding_matrix[i] = embedding_vector\n"
      ],
      "metadata": {
        "id": "ZMEXlV82fa6M"
      },
      "execution_count": 24,
      "outputs": []
    },
    {
      "cell_type": "code",
      "source": [
        "## Padding -> to uniform the datas\n",
        "max_length = max(len(seq) for seq in X_train)\n",
        "\n",
        "# to test an outlier case (if one of the test dataset has longer length)\n",
        "for x in X_test:\n",
        "    if len(x) > max_length:\n",
        "        print(f\"an outlier detected: {x}\")\n",
        "\n",
        "X_train = pad_sequences(X_train, maxlen = max_length)\n",
        "X_test = pad_sequences(X_test, maxlen = max_length)"
      ],
      "metadata": {
        "id": "i3FxCToCPuG0"
      },
      "execution_count": 25,
      "outputs": []
    },
    {
      "cell_type": "code",
      "source": [
        "# create hot_labels (idk whty tapi ini penting, kalo ga bakal error)\n",
        "y_test = to_categorical(y_test, num_classes=3)\n",
        "y_train = to_categorical(y_train, num_classes=3)"
      ],
      "metadata": {
        "id": "-JZinppQP1x8"
      },
      "execution_count": 26,
      "outputs": []
    },
    {
      "cell_type": "code",
      "source": [
        "# another look on the number of tweet in test and training data\n",
        "\n",
        "print(f\"num test tweet: {y_test.shape[0]}\")\n",
        "print(f\"num train tweet: {y_train.shape[0]}\")"
      ],
      "metadata": {
        "colab": {
          "base_uri": "https://localhost:8080/"
        },
        "id": "alWf48XjP13t",
        "outputId": "bcb23a45-7f6b-4231-a10c-a39929f89b56"
      },
      "execution_count": 27,
      "outputs": [
        {
          "output_type": "stream",
          "name": "stdout",
          "text": [
            "num test tweet: 4957\n",
            "num train tweet: 19826\n"
          ]
        }
      ]
    },
    {
      "cell_type": "code",
      "source": [
        "# evaluation metrics\n",
        "# credits/source:\n",
        "\"\"\"\n",
        "https://datascience.stackexchange.com/questions/45165/how-to-get-accuracy-f1-precision-and-recall-for-a-keras-model\n",
        "\"\"\"\n",
        "def recall(y_true, y_pred):\n",
        "    true_positives = K.sum(K.round(K.clip(y_true * y_pred, 0, 1)))\n",
        "    possible_positives = K.sum(K.round(K.clip(y_true, 0, 1)))\n",
        "    recall = true_positives / (possible_positives + K.epsilon())\n",
        "    return recall\n",
        "\n",
        "def precision(y_true, y_pred):\n",
        "    true_positives = K.sum(K.round(K.clip(y_true * y_pred, 0, 1)))\n",
        "    predicted_positives = K.sum(K.round(K.clip(y_pred, 0, 1)))\n",
        "    precision = true_positives / (predicted_positives + K.epsilon())\n",
        "    return precision\n",
        "\n",
        "def f1(y_true, y_pred):\n",
        "    precisions = precision(y_true, y_pred)\n",
        "    recalls = recall(y_true, y_pred)\n",
        "    return 2*((precisions*recalls)/(precisions+recalls+K.epsilon()))"
      ],
      "metadata": {
        "id": "lG1goPKbP18M"
      },
      "execution_count": 28,
      "outputs": []
    },
    {
      "cell_type": "code",
      "source": [
        "# change dis if u want\n",
        "#output_dim = 200\n",
        "\n",
        "# LSTM model architechture (CNN + LSTM)\n",
        "#model = Sequential([\n",
        "    # embedding layer is like idk\n",
        "  #  Embedding(vocab_size, output_dim, input_length=max_length),\n",
        "    # lstm for xxx\n",
        "  #  LSTM(64, dropout=0.3, recurrent_dropout=0.3),\n",
        "    # dropout to prevent overfitting\n",
        " #   Dropout(0.5),\n",
        "    # dense to connect the previous output with current layer\n",
        " #   Dense(128, activation=\"relu\"),\n",
        "    # dropout to prevent overfitting\n",
        " #   Dropout(0.5),\n",
        "    # this is output layer, with 3 class (0, 1, 2)\n",
        " #   Dense(3, activation=\"softmax\"),\n",
        "#])\n",
        "\n",
        "#model.compile(optimizer='adam', loss='categorical_crossentropy', metrics=['accuracy',f1,precision, recall])\n",
        "\n",
        "# LSTM model architecture (CNN + LSTM)\n",
        "model = Sequential([\n",
        "    # Cambia la capa de embedding para usar los embeddings preentrenados de GloVe\n",
        "    Embedding(vocab_size, 100, weights=[embedding_matrix], input_length=max_length, trainable=False),\n",
        "    # lstm for xxx\n",
        "    LSTM(64, dropout=0.3, recurrent_dropout=0.3),\n",
        "    # dropout to prevent overfitting\n",
        "    Dropout(0.5),\n",
        "    # dense to connect the previous output with current layer\n",
        "    Dense(128, activation=\"relu\"),\n",
        "    # dropout to prevent overfitting\n",
        "    Dropout(0.5),\n",
        "    # this is output layer, with 3 class (0, 1, 2)\n",
        "    Dense(3, activation=\"softmax\"),\n",
        "])\n",
        "\n",
        "model.compile(optimizer='adam', loss='categorical_crossentropy', metrics=['accuracy', f1, precision, recall])\n",
        "\n"
      ],
      "metadata": {
        "id": "DQ8N4epbP1-9"
      },
      "execution_count": 29,
      "outputs": []
    },
    {
      "cell_type": "code",
      "source": [
        "# checking the model parameters\n",
        "model.summary()"
      ],
      "metadata": {
        "colab": {
          "base_uri": "https://localhost:8080/"
        },
        "id": "0uIDVmKZP2Bl",
        "outputId": "84a1c28c-741e-43dd-9130-416751a2de9a"
      },
      "execution_count": 30,
      "outputs": [
        {
          "output_type": "stream",
          "name": "stdout",
          "text": [
            "Model: \"sequential_1\"\n",
            "_________________________________________________________________\n",
            " Layer (type)                Output Shape              Param #   \n",
            "=================================================================\n",
            " embedding_1 (Embedding)     (None, 26, 100)           1867100   \n",
            "                                                                 \n",
            " lstm_1 (LSTM)               (None, 64)                42240     \n",
            "                                                                 \n",
            " dropout_2 (Dropout)         (None, 64)                0         \n",
            "                                                                 \n",
            " dense_2 (Dense)             (None, 128)               8320      \n",
            "                                                                 \n",
            " dropout_3 (Dropout)         (None, 128)               0         \n",
            "                                                                 \n",
            " dense_3 (Dense)             (None, 3)                 387       \n",
            "                                                                 \n",
            "=================================================================\n",
            "Total params: 1918047 (7.32 MB)\n",
            "Trainable params: 50947 (199.01 KB)\n",
            "Non-trainable params: 1867100 (7.12 MB)\n",
            "_________________________________________________________________\n"
          ]
        }
      ]
    },
    {
      "cell_type": "code",
      "source": [
        "# Train the model\n",
        "model_history = model.fit(\n",
        "    X_train,\n",
        "    y_train,\n",
        "    batch_size = 64,\n",
        "    epochs=10,\n",
        "    validation_data=(X_test, y_test)\n",
        ")"
      ],
      "metadata": {
        "colab": {
          "base_uri": "https://localhost:8080/"
        },
        "id": "cmReJUw5PuJW",
        "outputId": "e2deb869-3d73-4d7d-ede6-aee04b484ae4"
      },
      "execution_count": 31,
      "outputs": [
        {
          "output_type": "stream",
          "name": "stdout",
          "text": [
            "Epoch 1/10\n",
            "310/310 [==============================] - 27s 70ms/step - loss: 0.5093 - accuracy: 0.8220 - f1: 0.8087 - precision: 0.8405 - recall: 0.7858 - val_loss: 0.3833 - val_accuracy: 0.8594 - val_f1: 0.8598 - val_precision: 0.8721 - val_recall: 0.8479\n",
            "Epoch 2/10\n",
            "310/310 [==============================] - 24s 77ms/step - loss: 0.3867 - accuracy: 0.8615 - f1: 0.8600 - precision: 0.8783 - recall: 0.8428 - val_loss: 0.3232 - val_accuracy: 0.8763 - val_f1: 0.8768 - val_precision: 0.8950 - val_recall: 0.8596\n",
            "Epoch 3/10\n",
            "310/310 [==============================] - 21s 68ms/step - loss: 0.3522 - accuracy: 0.8713 - f1: 0.8687 - precision: 0.8863 - recall: 0.8521 - val_loss: 0.3130 - val_accuracy: 0.8780 - val_f1: 0.8756 - val_precision: 0.8978 - val_recall: 0.8550\n",
            "Epoch 4/10\n",
            "310/310 [==============================] - 23s 75ms/step - loss: 0.3332 - accuracy: 0.8764 - f1: 0.8753 - precision: 0.8920 - recall: 0.8595 - val_loss: 0.3054 - val_accuracy: 0.8836 - val_f1: 0.8841 - val_precision: 0.9005 - val_recall: 0.8684\n",
            "Epoch 5/10\n",
            "310/310 [==============================] - 21s 68ms/step - loss: 0.3225 - accuracy: 0.8814 - f1: 0.8788 - precision: 0.8957 - recall: 0.8628 - val_loss: 0.3009 - val_accuracy: 0.8838 - val_f1: 0.8848 - val_precision: 0.9017 - val_recall: 0.8686\n",
            "Epoch 6/10\n",
            "310/310 [==============================] - 23s 74ms/step - loss: 0.3094 - accuracy: 0.8831 - f1: 0.8817 - precision: 0.8968 - recall: 0.8673 - val_loss: 0.2971 - val_accuracy: 0.8836 - val_f1: 0.8855 - val_precision: 0.9007 - val_recall: 0.8710\n",
            "Epoch 7/10\n",
            "310/310 [==============================] - 21s 68ms/step - loss: 0.3035 - accuracy: 0.8885 - f1: 0.8866 - precision: 0.9026 - recall: 0.8715 - val_loss: 0.2978 - val_accuracy: 0.8868 - val_f1: 0.8899 - val_precision: 0.9084 - val_recall: 0.8725\n",
            "Epoch 8/10\n",
            "310/310 [==============================] - 23s 75ms/step - loss: 0.2962 - accuracy: 0.8879 - f1: 0.8868 - precision: 0.9009 - recall: 0.8734 - val_loss: 0.2969 - val_accuracy: 0.8888 - val_f1: 0.8883 - val_precision: 0.9065 - val_recall: 0.8711\n",
            "Epoch 9/10\n",
            "310/310 [==============================] - 20s 66ms/step - loss: 0.2926 - accuracy: 0.8908 - f1: 0.8902 - precision: 0.9036 - recall: 0.8774 - val_loss: 0.3010 - val_accuracy: 0.8874 - val_f1: 0.8883 - val_precision: 0.8990 - val_recall: 0.8781\n",
            "Epoch 10/10\n",
            "310/310 [==============================] - 22s 72ms/step - loss: 0.2867 - accuracy: 0.8916 - f1: 0.8921 - precision: 0.9045 - recall: 0.8803 - val_loss: 0.2904 - val_accuracy: 0.8933 - val_f1: 0.8922 - val_precision: 0.9100 - val_recall: 0.8753\n"
          ]
        }
      ]
    },
    {
      "cell_type": "code",
      "source": [
        "model.save(\"./pretrained\")"
      ],
      "metadata": {
        "id": "jgpJGGyPQE7O"
      },
      "execution_count": null,
      "outputs": []
    }
  ]
}