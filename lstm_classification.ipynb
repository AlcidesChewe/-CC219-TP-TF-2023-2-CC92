{
  "metadata": {
    "kernelspec": {
      "language": "python",
      "display_name": "Python 3",
      "name": "python3"
    },
    "language_info": {
      "pygments_lexer": "ipython3",
      "nbconvert_exporter": "python",
      "version": "3.6.4",
      "file_extension": ".py",
      "codemirror_mode": {
        "name": "ipython",
        "version": 3
      },
      "name": "python",
      "mimetype": "text/x-python"
    },
    "kaggle": {
      "accelerator": "nvidiaTeslaT4",
      "dataSources": [
        {
          "sourceId": 1257215,
          "sourceType": "datasetVersion",
          "datasetId": 723100
        }
      ],
      "dockerImageVersionId": 30497,
      "isInternetEnabled": false,
      "language": "python",
      "sourceType": "notebook",
      "isGpuEnabled": true
    },
    "colab": {
      "provenance": []
    }
  },
  "nbformat_minor": 0,
  "nbformat": 4,
  "cells": [
    {
      "cell_type": "markdown",
      "source": [
        "Creditos:\n",
        "- https://www.kaggle.com/code/erioyoshino/lstm-classification"
      ],
      "metadata": {
        "id": "yHlcVBuqFLhp"
      }
    },
    {
      "cell_type": "code",
      "source": [
        "import pandas as pd # read the csv\n",
        "import re # regex to detect username, url, html entity\n",
        "import nltk # to use word tokenize (split the sentence into words)\n",
        "from nltk.corpus import stopwords # to remove the stopwords\n",
        "from sklearn.model_selection import train_test_split\n",
        "from tensorflow.keras.preprocessing.text import Tokenizer\n",
        "from tensorflow.keras.preprocessing.sequence import pad_sequences\n",
        "from tensorflow.keras.models import Sequential\n",
        "from tensorflow.keras.layers import Embedding, LSTM, Dense, Dropout\n",
        "\n",
        "from keras.utils import to_categorical\n",
        "from keras import backend as K\n",
        "nltk.download('stopwords')\n",
        "nltk.download('punkt')"
      ],
      "metadata": {
        "_uuid": "8f2839f25d086af736a60e9eeb907d3b93b6e0e5",
        "_cell_guid": "b1076dfc-b9ad-4769-8c92-a6c4dae69d19",
        "execution": {
          "iopub.status.busy": "2023-06-09T09:39:54.170548Z",
          "iopub.execute_input": "2023-06-09T09:39:54.170931Z",
          "iopub.status.idle": "2023-06-09T09:39:54.177715Z",
          "shell.execute_reply.started": "2023-06-09T09:39:54.1709Z",
          "shell.execute_reply": "2023-06-09T09:39:54.176713Z"
        },
        "trusted": true,
        "colab": {
          "base_uri": "https://localhost:8080/"
        },
        "id": "XyeiP-biEiob",
        "outputId": "8fd81786-7cd8-45a9-a7d5-2310a981c0c1"
      },
      "execution_count": 11,
      "outputs": [
        {
          "output_type": "stream",
          "name": "stderr",
          "text": [
            "[nltk_data] Downloading package stopwords to /root/nltk_data...\n",
            "[nltk_data]   Package stopwords is already up-to-date!\n",
            "[nltk_data] Downloading package punkt to /root/nltk_data...\n",
            "[nltk_data]   Unzipping tokenizers/punkt.zip.\n"
          ]
        },
        {
          "output_type": "execute_result",
          "data": {
            "text/plain": [
              "True"
            ]
          },
          "metadata": {},
          "execution_count": 11
        }
      ]
    },
    {
      "cell_type": "code",
      "source": [
        "# initiate the path and read it\n",
        "dataset_path = \"./labeled_data.csv\"\n",
        "df = pd.read_csv(dataset_path)\n",
        "df.head()\n",
        "\n",
        "# dataset shape to know how many tweets in the datasets\n",
        "print(f\"num of tweets: {df.shape}\")\n",
        "\n",
        "# extract the text and labels\n",
        "tweet = list(df['tweet'])\n",
        "labels = list(df['class'])"
      ],
      "metadata": {
        "execution": {
          "iopub.status.busy": "2023-06-09T09:39:54.179839Z",
          "iopub.execute_input": "2023-06-09T09:39:54.180702Z",
          "iopub.status.idle": "2023-06-09T09:39:54.245203Z",
          "shell.execute_reply.started": "2023-06-09T09:39:54.18067Z",
          "shell.execute_reply": "2023-06-09T09:39:54.244079Z"
        },
        "trusted": true,
        "colab": {
          "base_uri": "https://localhost:8080/"
        },
        "id": "EWIb_zTiEioe",
        "outputId": "2260ea09-a065-4b77-cbae-9a9114634c64"
      },
      "execution_count": 2,
      "outputs": [
        {
          "output_type": "stream",
          "name": "stdout",
          "text": [
            "num of tweets: (19971, 7)\n"
          ]
        }
      ]
    },
    {
      "cell_type": "markdown",
      "source": [
        "### Steps:\n",
        "1. preprocessing\n",
        "2. splitting\n",
        "3. tokenize & padding\n",
        "4. Create model & train\n",
        "5. evaluate\n",
        "\n",
        "---\n",
        "\n",
        "Preprocessing (cleaning the datasets):\n",
        "- remove html entity\n",
        "- change user tags (@xxx -> user)\n",
        "- remove urls\n",
        "- remove unnecessary  symbol ('', !, \", ') -> cause a lot of noise in the dataset\n",
        "- remove stopwords"
      ],
      "metadata": {
        "id": "tQdSgPtkEioe"
      }
    },
    {
      "cell_type": "code",
      "source": [
        "stop_words = set(stopwords.words('english'))\n",
        "stop_words.add(\"rt\")\n",
        "\n",
        "# remove html entity:\n",
        "def remove_entity(raw_text):\n",
        "    entity_regex = r\"&[^\\s;]+;\"\n",
        "    text = re.sub(entity_regex, \"\", raw_text)\n",
        "    return text\n",
        "\n",
        "# change the user tags\n",
        "def change_user(raw_text):\n",
        "    regex = r\"@([^ ]+)\"\n",
        "    text = re.sub(regex, \"user\", raw_text)\n",
        "\n",
        "    return text\n",
        "\n",
        "# remove urls\n",
        "def remove_url(raw_text):\n",
        "    url_regex = r\"(?i)\\b((?:https?://|www\\d{0,3}[.]|[a-z0-9.\\-]+[.][a-z]{2,4}/)(?:[^\\s()<>]+|\\(([^\\s()<>]+|(\\([^\\s()<>]+\\)))*\\))+(?:\\(([^\\s()<>]+|(\\([^\\s()<>]+\\)))*\\)|[^\\s`!()\\[\\]{};:'\\\".,<>?«»“”‘’]))\"\n",
        "    text = re.sub(url_regex, '', raw_text)\n",
        "\n",
        "    return text\n",
        "\n",
        "# remove unnecessary symbols\n",
        "def remove_noise_symbols(raw_text):\n",
        "    text = raw_text.replace('\"', '')\n",
        "    text = text.replace(\"'\", '')\n",
        "    text = text.replace(\"!\", '')\n",
        "    text = text.replace(\"`\", '')\n",
        "    text = text.replace(\"..\", '')\n",
        "\n",
        "    return text\n",
        "\n",
        "# remove stopwords\n",
        "def remove_stopwords(raw_text):\n",
        "    tokenize = nltk.word_tokenize(raw_text)\n",
        "    text = [word for word in tokenize if not word.lower() in stop_words]\n",
        "    text = \" \".join(text)\n",
        "\n",
        "    return text\n",
        "\n",
        "## this function in to clean all the dataset by utilizing all the function above\n",
        "def preprocess(datas):\n",
        "    clean = []\n",
        "    # change the @xxx into \"user\"\n",
        "    clean = [change_user(text) for text in datas]\n",
        "    # remove emojis (specifically unicode emojis)\n",
        "    clean = [remove_entity(text) for text in clean]\n",
        "    # remove urls\n",
        "    clean = [remove_url(text) for text in clean]\n",
        "    # remove trailing stuff\n",
        "    clean = [remove_noise_symbols(text) for text in clean]\n",
        "    # remove stopwords\n",
        "    clean = [remove_stopwords(text) for text in clean]\n",
        "\n",
        "    return clean"
      ],
      "metadata": {
        "execution": {
          "iopub.status.busy": "2023-06-09T09:39:54.246935Z",
          "iopub.execute_input": "2023-06-09T09:39:54.247808Z",
          "iopub.status.idle": "2023-06-09T09:39:54.261617Z",
          "shell.execute_reply.started": "2023-06-09T09:39:54.247777Z",
          "shell.execute_reply": "2023-06-09T09:39:54.260589Z"
        },
        "trusted": true,
        "id": "3ZHkamXrEiof"
      },
      "execution_count": 24,
      "outputs": []
    },
    {
      "cell_type": "code",
      "source": [
        "# call the cleaning function\n",
        "clean_tweet = preprocess(tweet)"
      ],
      "metadata": {
        "execution": {
          "iopub.status.busy": "2023-06-09T09:39:54.263254Z",
          "iopub.execute_input": "2023-06-09T09:39:54.263609Z",
          "iopub.status.idle": "2023-06-09T09:39:59.89894Z",
          "shell.execute_reply.started": "2023-06-09T09:39:54.263577Z",
          "shell.execute_reply": "2023-06-09T09:39:59.897871Z"
        },
        "trusted": true,
        "id": "TaTf3vpvEiog"
      },
      "execution_count": 12,
      "outputs": []
    },
    {
      "cell_type": "markdown",
      "source": [
        "Splitting the dataset into test and validation"
      ],
      "metadata": {
        "id": "HzRs0u-GEiog"
      }
    },
    {
      "cell_type": "code",
      "source": [
        "X_train, X_test, y_train, y_test = train_test_split(clean_tweet, labels, test_size=0.2, random_state=42)"
      ],
      "metadata": {
        "execution": {
          "iopub.status.busy": "2023-06-09T09:39:59.901799Z",
          "iopub.execute_input": "2023-06-09T09:39:59.902262Z",
          "iopub.status.idle": "2023-06-09T09:39:59.921529Z",
          "shell.execute_reply.started": "2023-06-09T09:39:59.902226Z",
          "shell.execute_reply": "2023-06-09T09:39:59.920655Z"
        },
        "trusted": true,
        "id": "MciaXqD_Eiog"
      },
      "execution_count": 13,
      "outputs": []
    },
    {
      "cell_type": "code",
      "source": [
        "## Tokenizing -> basically we use tokenisation for many things, its commonly used for feature extraction in preprocessing. btw idk how it works as feature extraction tho :(\n",
        "# declare the tokenizer\n",
        "tokenizer = Tokenizer()\n",
        "# build the vocabulary based on train dataset\n",
        "tokenizer.fit_on_texts(X_train)\n",
        "# tokenize the train and test dataset\n",
        "X_train = tokenizer.texts_to_sequences(X_train)\n",
        "X_test = tokenizer.texts_to_sequences(X_test)\n",
        "\n",
        "# vocabulary size (num of unique words) -> will be used in embedding layer\n",
        "vocab_size = len(tokenizer.word_index) + 1"
      ],
      "metadata": {
        "execution": {
          "iopub.status.busy": "2023-06-09T09:39:59.92286Z",
          "iopub.execute_input": "2023-06-09T09:39:59.923286Z",
          "iopub.status.idle": "2023-06-09T09:40:00.618355Z",
          "shell.execute_reply.started": "2023-06-09T09:39:59.923252Z",
          "shell.execute_reply": "2023-06-09T09:40:00.617384Z"
        },
        "trusted": true,
        "id": "66vS0fKvEiog"
      },
      "execution_count": 14,
      "outputs": []
    },
    {
      "cell_type": "code",
      "source": [
        "## Padding -> to uniform the datas\n",
        "max_length = max(len(seq) for seq in X_train)\n",
        "\n",
        "# to test an outlier case (if one of the test dataset has longer length)\n",
        "for x in X_test:\n",
        "    if len(x) > max_length:\n",
        "        print(f\"an outlier detected: {x}\")\n",
        "\n",
        "X_train = pad_sequences(X_train, maxlen = max_length)\n",
        "X_test = pad_sequences(X_test, maxlen = max_length)"
      ],
      "metadata": {
        "execution": {
          "iopub.status.busy": "2023-06-09T09:40:00.619616Z",
          "iopub.execute_input": "2023-06-09T09:40:00.619983Z",
          "iopub.status.idle": "2023-06-09T09:40:00.736721Z",
          "shell.execute_reply.started": "2023-06-09T09:40:00.619952Z",
          "shell.execute_reply": "2023-06-09T09:40:00.735788Z"
        },
        "trusted": true,
        "id": "KsztIbj-Eioh"
      },
      "execution_count": 15,
      "outputs": []
    },
    {
      "cell_type": "code",
      "source": [
        "# create hot_labels (idk whty tapi ini penting, kalo ga bakal error)\n",
        "y_test = to_categorical(y_test, num_classes=3)\n",
        "y_train = to_categorical(y_train, num_classes=3)"
      ],
      "metadata": {
        "execution": {
          "iopub.status.busy": "2023-06-09T09:40:00.738051Z",
          "iopub.execute_input": "2023-06-09T09:40:00.738965Z",
          "iopub.status.idle": "2023-06-09T09:40:00.747168Z",
          "shell.execute_reply.started": "2023-06-09T09:40:00.738934Z",
          "shell.execute_reply": "2023-06-09T09:40:00.7462Z"
        },
        "trusted": true,
        "id": "TXj7rDgAEioh"
      },
      "execution_count": 16,
      "outputs": []
    },
    {
      "cell_type": "code",
      "source": [
        "# another look on the number of tweet in test and training data\n",
        "\n",
        "print(f\"num test tweet: {y_test.shape[0]}\")\n",
        "print(f\"num train tweet: {y_train.shape[0]}\")"
      ],
      "metadata": {
        "execution": {
          "iopub.status.busy": "2023-06-09T09:40:00.748642Z",
          "iopub.execute_input": "2023-06-09T09:40:00.749343Z",
          "iopub.status.idle": "2023-06-09T09:40:00.758767Z",
          "shell.execute_reply.started": "2023-06-09T09:40:00.74931Z",
          "shell.execute_reply": "2023-06-09T09:40:00.757781Z"
        },
        "trusted": true,
        "colab": {
          "base_uri": "https://localhost:8080/"
        },
        "id": "TkoVV6WMEioh",
        "outputId": "2ced4a84-d119-46e8-fd7f-f3edb67fa28f"
      },
      "execution_count": 17,
      "outputs": [
        {
          "output_type": "stream",
          "name": "stdout",
          "text": [
            "num test tweet: 3995\n",
            "num train tweet: 15976\n"
          ]
        }
      ]
    },
    {
      "cell_type": "markdown",
      "source": [
        "Building the model"
      ],
      "metadata": {
        "id": "HhTOa-pREioh"
      }
    },
    {
      "cell_type": "code",
      "source": [
        "# evaluation metrics\n",
        "# credits/source:\n",
        "\"\"\"\n",
        "https://datascience.stackexchange.com/questions/45165/how-to-get-accuracy-f1-precision-and-recall-for-a-keras-model\n",
        "\"\"\"\n",
        "def recall(y_true, y_pred):\n",
        "    true_positives = K.sum(K.round(K.clip(y_true * y_pred, 0, 1)))\n",
        "    possible_positives = K.sum(K.round(K.clip(y_true, 0, 1)))\n",
        "    recall = true_positives / (possible_positives + K.epsilon())\n",
        "    return recall\n",
        "\n",
        "def precision(y_true, y_pred):\n",
        "    true_positives = K.sum(K.round(K.clip(y_true * y_pred, 0, 1)))\n",
        "    predicted_positives = K.sum(K.round(K.clip(y_pred, 0, 1)))\n",
        "    precision = true_positives / (predicted_positives + K.epsilon())\n",
        "    return precision\n",
        "\n",
        "def f1(y_true, y_pred):\n",
        "    precisions = precision(y_true, y_pred)\n",
        "    recalls = recall(y_true, y_pred)\n",
        "    return 2*((precisions*recalls)/(precisions+recalls+K.epsilon()))"
      ],
      "metadata": {
        "execution": {
          "iopub.status.busy": "2023-06-09T09:40:00.760334Z",
          "iopub.execute_input": "2023-06-09T09:40:00.762352Z",
          "iopub.status.idle": "2023-06-09T09:40:00.770192Z",
          "shell.execute_reply.started": "2023-06-09T09:40:00.762319Z",
          "shell.execute_reply": "2023-06-09T09:40:00.769138Z"
        },
        "trusted": true,
        "id": "0Gj3lrB5Eioi"
      },
      "execution_count": 18,
      "outputs": []
    },
    {
      "cell_type": "code",
      "source": [
        "# change dis if u want\n",
        "output_dim = 200\n",
        "\n",
        "# LSTM model architechture (CNN + LSTM)\n",
        "model = Sequential([\n",
        "    # embedding layer is like idk\n",
        "    Embedding(vocab_size, output_dim, input_length=max_length),\n",
        "    # lstm for xxx\n",
        "    LSTM(64, dropout=0.3, recurrent_dropout=0.3),\n",
        "    # dropout to prevent overfitting\n",
        "    Dropout(0.5),\n",
        "    # dense to connect the previous output with current layer\n",
        "    Dense(128, activation=\"relu\"),\n",
        "    # dropout to prevent overfitting\n",
        "    Dropout(0.5),\n",
        "    # this is output layer, with 3 class (0, 1, 2)\n",
        "    Dense(3, activation=\"softmax\"),\n",
        "])\n",
        "\n",
        "model.compile(optimizer='adam', loss='categorical_crossentropy', metrics=['accuracy',f1,precision, recall])"
      ],
      "metadata": {
        "execution": {
          "iopub.status.busy": "2023-06-09T09:40:00.773579Z",
          "iopub.execute_input": "2023-06-09T09:40:00.77397Z",
          "iopub.status.idle": "2023-06-09T09:40:00.95595Z",
          "shell.execute_reply.started": "2023-06-09T09:40:00.773937Z",
          "shell.execute_reply": "2023-06-09T09:40:00.955009Z"
        },
        "trusted": true,
        "id": "3Oa9NNmlEioi"
      },
      "execution_count": 19,
      "outputs": []
    },
    {
      "cell_type": "code",
      "source": [
        "# checking the model parameters\n",
        "model.summary()"
      ],
      "metadata": {
        "execution": {
          "iopub.status.busy": "2023-06-09T09:40:00.957711Z",
          "iopub.execute_input": "2023-06-09T09:40:00.958412Z",
          "iopub.status.idle": "2023-06-09T09:40:00.981967Z",
          "shell.execute_reply.started": "2023-06-09T09:40:00.958379Z",
          "shell.execute_reply": "2023-06-09T09:40:00.98128Z"
        },
        "trusted": true,
        "colab": {
          "base_uri": "https://localhost:8080/"
        },
        "id": "Is2IKfWJEioi",
        "outputId": "aa382f84-f84d-495a-c9cb-b55b054828c0"
      },
      "execution_count": 20,
      "outputs": [
        {
          "output_type": "stream",
          "name": "stdout",
          "text": [
            "Model: \"sequential\"\n",
            "_________________________________________________________________\n",
            " Layer (type)                Output Shape              Param #   \n",
            "=================================================================\n",
            " embedding (Embedding)       (None, 28, 200)           3333600   \n",
            "                                                                 \n",
            " lstm (LSTM)                 (None, 64)                67840     \n",
            "                                                                 \n",
            " dropout (Dropout)           (None, 64)                0         \n",
            "                                                                 \n",
            " dense (Dense)               (None, 128)               8320      \n",
            "                                                                 \n",
            " dropout_1 (Dropout)         (None, 128)               0         \n",
            "                                                                 \n",
            " dense_1 (Dense)             (None, 3)                 387       \n",
            "                                                                 \n",
            "=================================================================\n",
            "Total params: 3410147 (13.01 MB)\n",
            "Trainable params: 3410147 (13.01 MB)\n",
            "Non-trainable params: 0 (0.00 Byte)\n",
            "_________________________________________________________________\n"
          ]
        }
      ]
    },
    {
      "cell_type": "code",
      "source": [
        "# Train the model\n",
        "model_history = model.fit(\n",
        "    X_train,\n",
        "    y_train,\n",
        "    batch_size = 64,\n",
        "    epochs=10,\n",
        "    validation_data=(X_test, y_test)\n",
        ")"
      ],
      "metadata": {
        "execution": {
          "iopub.status.busy": "2023-06-09T09:40:00.98295Z",
          "iopub.execute_input": "2023-06-09T09:40:00.983497Z",
          "iopub.status.idle": "2023-06-09T09:42:41.701912Z",
          "shell.execute_reply.started": "2023-06-09T09:40:00.983466Z",
          "shell.execute_reply": "2023-06-09T09:42:41.699157Z"
        },
        "trusted": true,
        "colab": {
          "base_uri": "https://localhost:8080/"
        },
        "id": "GgPbzycdEioi",
        "outputId": "7d4fcd1b-ab27-425c-9fc8-204167b1e24c"
      },
      "execution_count": 21,
      "outputs": [
        {
          "output_type": "stream",
          "name": "stdout",
          "text": [
            "Epoch 1/10\n",
            "250/250 [==============================] - 42s 148ms/step - loss: 0.4887 - accuracy: 0.8267 - f1: 0.8030 - precision: 0.8409 - recall: 0.7747 - val_loss: 0.3611 - val_accuracy: 0.8721 - val_f1: 0.8717 - val_precision: 0.8876 - val_recall: 0.8566\n",
            "Epoch 2/10\n",
            "250/250 [==============================] - 37s 149ms/step - loss: 0.2605 - accuracy: 0.9107 - f1: 0.9102 - precision: 0.9242 - recall: 0.8968 - val_loss: 0.3455 - val_accuracy: 0.8831 - val_f1: 0.8805 - val_precision: 0.8912 - val_recall: 0.8702\n",
            "Epoch 3/10\n",
            "250/250 [==============================] - 35s 141ms/step - loss: 0.1672 - accuracy: 0.9432 - f1: 0.9424 - precision: 0.9480 - recall: 0.9370 - val_loss: 0.4107 - val_accuracy: 0.8728 - val_f1: 0.8712 - val_precision: 0.8761 - val_recall: 0.8664\n",
            "Epoch 4/10\n",
            "250/250 [==============================] - 33s 132ms/step - loss: 0.1076 - accuracy: 0.9640 - f1: 0.9642 - precision: 0.9660 - recall: 0.9624 - val_loss: 0.4995 - val_accuracy: 0.8716 - val_f1: 0.8717 - val_precision: 0.8739 - val_recall: 0.8695\n",
            "Epoch 5/10\n",
            "250/250 [==============================] - 32s 127ms/step - loss: 0.0833 - accuracy: 0.9708 - f1: 0.9713 - precision: 0.9722 - recall: 0.9703 - val_loss: 0.5513 - val_accuracy: 0.8663 - val_f1: 0.8656 - val_precision: 0.8676 - val_recall: 0.8635\n",
            "Epoch 6/10\n",
            "250/250 [==============================] - 32s 129ms/step - loss: 0.0636 - accuracy: 0.9787 - f1: 0.9784 - precision: 0.9791 - recall: 0.9777 - val_loss: 0.6005 - val_accuracy: 0.8743 - val_f1: 0.8746 - val_precision: 0.8759 - val_recall: 0.8733\n",
            "Epoch 7/10\n",
            "250/250 [==============================] - 32s 128ms/step - loss: 0.0507 - accuracy: 0.9820 - f1: 0.9823 - precision: 0.9827 - recall: 0.9818 - val_loss: 0.6900 - val_accuracy: 0.8603 - val_f1: 0.8594 - val_precision: 0.8611 - val_recall: 0.8577\n",
            "Epoch 8/10\n",
            "250/250 [==============================] - 32s 129ms/step - loss: 0.0449 - accuracy: 0.9855 - f1: 0.9855 - precision: 0.9859 - recall: 0.9850 - val_loss: 0.8549 - val_accuracy: 0.8591 - val_f1: 0.8587 - val_precision: 0.8593 - val_recall: 0.8581\n",
            "Epoch 9/10\n",
            "250/250 [==============================] - 32s 130ms/step - loss: 0.0434 - accuracy: 0.9845 - f1: 0.9845 - precision: 0.9848 - recall: 0.9843 - val_loss: 0.8031 - val_accuracy: 0.8631 - val_f1: 0.8624 - val_precision: 0.8627 - val_recall: 0.8620\n",
            "Epoch 10/10\n",
            "250/250 [==============================] - 33s 131ms/step - loss: 0.0375 - accuracy: 0.9867 - f1: 0.9870 - precision: 0.9874 - recall: 0.9865 - val_loss: 0.8542 - val_accuracy: 0.8573 - val_f1: 0.8568 - val_precision: 0.8583 - val_recall: 0.8554\n"
          ]
        }
      ]
    },
    {
      "cell_type": "code",
      "source": [
        "model.save(\"./pretrained\")"
      ],
      "metadata": {
        "id": "y_HJ2DGgEvRg"
      },
      "execution_count": 23,
      "outputs": []
    },
    {
      "cell_type": "code",
      "source": [],
      "metadata": {
        "id": "_uon0WG7HMRX"
      },
      "execution_count": null,
      "outputs": []
    }
  ]
}